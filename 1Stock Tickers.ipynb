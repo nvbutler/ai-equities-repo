{
 "cells": [
  {
   "cell_type": "code",
   "execution_count": 19,
   "id": "b45f7371-3501-44c3-89ab-670400f832f5",
   "metadata": {},
   "outputs": [
    {
     "name": "stdout",
     "output_type": "stream",
     "text": [
      "Requirement already satisfied: bs4 in /opt/conda/lib/python3.7/site-packages (0.0.1)\n",
      "Requirement already satisfied: beautifulsoup4 in /opt/conda/lib/python3.7/site-packages (from bs4) (4.10.0)\n",
      "Requirement already satisfied: soupsieve>1.2 in /opt/conda/lib/python3.7/site-packages (from beautifulsoup4->bs4) (2.3.1)\n"
     ]
    }
   ],
   "source": [
    "import sys\n",
    "!{sys.executable} -m pip install bs4\n",
    "import requests\n",
    "from bs4 import BeautifulSoup\n",
    "import pandas as pd\n",
    "url=\"https://en.wikipedia.org/wiki/List_of_S%26P_500_companies\""
   ]
  },
  {
   "cell_type": "code",
   "execution_count": 20,
   "id": "44ab5bd4-6fe3-4cfd-b26d-0b89ae3ba1f0",
   "metadata": {},
   "outputs": [],
   "source": [
    "r = requests.get(url,timeout=2.5)\n",
    "r_html = r.text\n",
    "soup = BeautifulSoup(r_html, 'html.parser')\n",
    "components_table = soup.find_all(id=\"constituents\")\n",
    "headers_html = soup.find_all(\"th\")\n",
    "df_columns=[item.text.rstrip(\"\\n\") for item in headers_html]"
   ]
  },
  {
   "cell_type": "code",
   "execution_count": 21,
   "id": "5a3e76e6-12cf-4538-82fc-4f2ce81ca371",
   "metadata": {},
   "outputs": [],
   "source": [
    "components_headers=df_columns[:9]\n",
    "data_rows=components_table[0].find(\"tbody\").find_all(\"tr\")[1:]\n",
    "rows=[]\n",
    "for row in range(len(data_rows)):\n",
    "    \n",
    "    stock=list(filter(None,data_rows[row].text.split(\"\\n\")))\n",
    "    rows.append(stock)\n",
    "S_P_500_stocks=pd.DataFrame(rows,columns=components_headers)"
   ]
  },
  {
   "cell_type": "code",
   "execution_count": 22,
   "id": "3973f300-585d-4f58-aa76-4f27142ffadc",
   "metadata": {},
   "outputs": [],
   "source": [
    "#S_P_500_stocks.drop(\"SEC filings\",inplace=True,axis=1)\n",
    "S_P_500_stocks.to_csv(\"P500stocks.csv\",index=False)"
   ]
  },
  {
   "cell_type": "code",
   "execution_count": 12,
   "id": "7459b5b8-9f78-4db7-addd-52c73e585fed",
   "metadata": {},
   "outputs": [
    {
     "data": {
      "text/plain": [
       "<Blob: spfirms, P500stocks.csv, None>"
      ]
     },
     "execution_count": 12,
     "metadata": {},
     "output_type": "execute_result"
    }
   ],
   "source": [
    "#import os\n",
    "#from google.cloud import storage\n",
    "\n",
    "#client = storage.Client()\n",
    "#bucket = client.get_bucket('spfirms')\n",
    "    \n",
    "#bucket.blob('P500stocks.csv')#.upload_from_string(df.to_csv(), 'text/csv')"
   ]
  },
  {
   "cell_type": "code",
   "execution_count": 24,
   "id": "c26512d4-bf5a-453e-9f93-5c75bbeada04",
   "metadata": {},
   "outputs": [],
   "source": [
    "S_P_500_stocks.to_csv(\"gs://spfirms/P500stocks.csv\")"
   ]
  },
  {
   "cell_type": "code",
   "execution_count": null,
   "id": "55ffc55f-a78a-4f8a-a6a1-ec9def92300b",
   "metadata": {},
   "outputs": [],
   "source": []
  }
 ],
 "metadata": {
  "environment": {
   "kernel": "python3",
   "name": "common-cpu.m89",
   "type": "gcloud",
   "uri": "gcr.io/deeplearning-platform-release/base-cpu:m89"
  },
  "kernelspec": {
   "display_name": "Python 3",
   "language": "python",
   "name": "python3"
  },
  "language_info": {
   "codemirror_mode": {
    "name": "ipython",
    "version": 3
   },
   "file_extension": ".py",
   "mimetype": "text/x-python",
   "name": "python",
   "nbconvert_exporter": "python",
   "pygments_lexer": "ipython3",
   "version": "3.7.12"
  }
 },
 "nbformat": 4,
 "nbformat_minor": 5
}
